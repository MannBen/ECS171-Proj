{
  "cells": [
    {
      "cell_type": "code",
      "execution_count": 1,
      "metadata": {
        "id": "5M2PwTjoKn_Z"
      },
      "outputs": [],
      "source": [
        "# Group 6: Amy Law, Benjamin Mann, Fuyu Wang, Weipeng Wang\n",
        "# Reference: https://pytorch.org/tutorials/beginner/basics/data_tutorial.html, https://pytorch.org/tutorials/beginner/blitz/cifar10_tutorial.html\n"
      ]
    },
    {
      "cell_type": "code",
      "execution_count": 126,
      "metadata": {
        "id": "NQrTf6DQIMpu"
      },
      "outputs": [],
      "source": [
        "# Import the library\n",
        "import os\n",
        "import torch\n",
        "import torch.nn as nn\n",
        "import torch.nn.parallel\n",
        "import torch.utils.data\n",
        "import torchvision.transforms as transforms\n",
        "import numpy as np\n",
        "import torch.nn.functional as F\n",
        "import pandas as pd\n",
        "from sklearn.metrics import confusion_matrix, ConfusionMatrixDisplay, accuracy_score, classification_report\n",
        "from sklearn.model_selection import train_test_split\n",
        "from PIL import Image\n",
        "import matplotlib.pyplot as plt"
      ]
    },
    {
      "cell_type": "code",
      "execution_count": 127,
      "metadata": {
        "colab": {
          "base_uri": "https://localhost:8080/"
        },
        "id": "33w6P9cIIcDS",
        "outputId": "74232cb9-4fab-4cfb-d13e-33da9cbfdfc0"
      },
      "outputs": [
        {
          "name": "stdout",
          "output_type": "stream",
          "text": [
            "Is avail:  True\n",
            "Device count:  1\n",
            "curr active: 0\n",
            "NVIDIA GeForce RTX 2070 SUPER\n",
            "curr device cuda\n"
          ]
        }
      ],
      "source": [
        "# Check the GPU\n",
        "print(\"Is avail: \",torch.cuda.is_available())\n",
        "print(\"Device count: \",torch.cuda.device_count())\n",
        "print(\"curr active:\", torch.cuda.current_device())\n",
        "print(torch.cuda.get_device_name(0))  \n",
        "\n",
        "device = torch.device(\"cuda\" if (torch.cuda.is_available() and torch.cuda.device_count() > 0) else \"cpu\")\n",
        "print(\"curr device\",device)"
      ]
    },
    {
      "cell_type": "code",
      "execution_count": 128,
      "metadata": {
        "id": "HgYmM7ryIdWG"
      },
      "outputs": [],
      "source": [
        "# One hot encoding for types\n",
        "types = ['Bug', 'Dark', 'Dragon', 'Electric', 'Fairy', 'Fighting', 'Fire', 'Flying', 'Ghost', 'Grass', 'Ground', 'Ice', 'Normal', 'Poison', 'Psychic', 'Rock', 'Steel', 'Water']\n",
        "\n",
        "# From 0 to 17, each number represents a type\n",
        "type_dict = {}\n",
        "for i in range(len(types)):\n",
        "    type_dict[types[i]] = i"
      ]
    },
    {
      "cell_type": "code",
      "execution_count": 146,
      "metadata": {
        "id": "J19pd5NLIfXn"
      },
      "outputs": [],
      "source": [
        "# Reference: https://pytorch.org/tutorials/beginner/basics/data_tutorial.html\n",
        "# The dataset can read the csv file and images\n",
        "# It could return image and its corresponding types\n",
        "class MyDataSet():\n",
        "    def __init__(self, annotations_file, img_dir, transform=None, target_transform=None):\n",
        "        self.img_labels = pd.read_csv(annotations_file)\n",
        "        self.img_dir = img_dir\n",
        "        self.transform = transform\n",
        "        self.target_transform = target_transform\n",
        "\n",
        "    def __len__(self):\n",
        "        return len(self.img_labels)\n",
        "\n",
        "    def __getitem__(self, idx):\n",
        "        img_path = os.path.join(self.img_dir, self.img_labels.iloc[idx, 0])\n",
        "        #image = read_image(img_path + \".png\")\n",
        "        image = Image.open(img_path + \".png\").convert('RGB')\n",
        "        label = self.img_labels.iloc[idx, 1]\n",
        "        if self.transform:\n",
        "            image = self.transform(image)\n",
        "        if self.target_transform:   \n",
        "            label = self.target_transform(label)\n",
        "        return image, label"
      ]
    },
    {
      "cell_type": "code",
      "execution_count": 138,
      "metadata": {
        "id": "ctAQxGmCIhd7"
      },
      "outputs": [],
      "source": [
        "# The Classifier architecture\n",
        "# The input size is 32 x 3 x 128 x 128\n",
        "class Classifier(nn.Module):\n",
        "    def __init__(self):\n",
        "        super().__init__()\n",
        "        self.conv1 = nn.Conv2d(3, 20, kernel_size = 4, stride = 2, padding = 1, bias = False)\n",
        "        self.conv2 = nn.Conv2d(20, 16, kernel_size = 4, stride = 2, padding = 1, bias = False)\n",
        "\n",
        "        self.linear1 = nn.Linear(16 * 8 * 8, 512)\n",
        "        self.linear2 = nn.Linear(512, 128)\n",
        "        self.linear3 = nn.Linear(128, 64)\n",
        "        self.linear4 = nn.Linear(64, 18)\n",
        "\n",
        "        self.activation = nn.ReLU()\n",
        "        self.pool = nn.MaxPool2d(2, 2)\n",
        "        self.dropout = nn.Dropout(p = 0.35)\n",
        "\n",
        "    def forward(self, x):\n",
        "        x = self.pool(self.activation(self.conv1(x)))\n",
        "        x = self.dropout(x)\n",
        "        x = self.pool(self.activation(self.conv2(x)))\n",
        "        x = x.view(-1, 16 * 8 * 8)\n",
        "        x = self.activation(self.linear1(x))\n",
        "        x = self.activation(self.linear2(x))\n",
        "        x = self.activation(self.linear3(x))\n",
        "        x = self.linear4(x)\n",
        "        return x"
      ]
    },
    {
      "cell_type": "code",
      "execution_count": 151,
      "metadata": {
        "colab": {
          "base_uri": "https://localhost:8080/"
        },
        "id": "N0WSubywLkqp",
        "outputId": "5703fc37-5a9c-44c5-baab-5b1e30536337"
      },
      "outputs": [],
      "source": [
        "dataroot = \"./images/pokemon2\""
      ]
    },
    {
      "cell_type": "code",
      "execution_count": 152,
      "metadata": {
        "id": "MPeXYbAzIlcz"
      },
      "outputs": [],
      "source": [
        "# Set up the data set\n",
        "image_transform = transforms.Compose([transforms.Resize((128, 128)), \n",
        "                                        transforms.ToTensor()\n",
        "                                        ])\n",
        "\n",
        "# pokemon_dataset = MyDataSet('./pokemon.csv', './images/pokemon2/', transform = image_transform)\n",
        "pokemon_dataset = MyDataSet('./pokemon.csv', dataroot, transform = image_transform)\n",
        "pokemon_dataloader = torch.utils.data.DataLoader(pokemon_dataset, batch_size=32, shuffle = True)\n",
        "\n",
        "train_size = int(0.9 * len(pokemon_dataset))\n",
        "test_size = len(pokemon_dataset) - train_size\n",
        "datasetTrain, datasetTest = torch.utils.data.random_split(pokemon_dataset, [train_size, test_size])\n",
        "\n",
        "train_loader = torch.utils.data.DataLoader(datasetTrain, batch_size=32, shuffle=True)\n",
        "test_loader = torch.utils.data.DataLoader(datasetTest, batch_size=32, shuffle=False)"
      ]
    },
    {
      "cell_type": "code",
      "execution_count": 141,
      "metadata": {
        "id": "jXOON33FIpKp"
      },
      "outputs": [],
      "source": [
        "# Number of training epochs\n",
        "num_epochs = 50\n",
        "\n",
        "# Learning rate for optimizers\n",
        "lr = 1e-3\n",
        "\n",
        "# Set up the classifier\n",
        "classifier = Classifier()\n",
        "classifier.cuda()\n",
        "\n",
        "# Set up the optimizer\n",
        "optimizer = torch.optim.Adam(classifier.parameters(), lr = lr)\n",
        "\n",
        "# Loss function\n",
        "loss_function = nn.CrossEntropyLoss()"
      ]
    },
    {
      "cell_type": "code",
      "execution_count": 142,
      "metadata": {
        "id": "a5svMiosIrvr"
      },
      "outputs": [],
      "source": [
        "# The function to one hot encoding the types\n",
        "def OneHotEncoding(y):\n",
        "    output = []\n",
        "    for i in range(len(y)):\n",
        "        output.append(type_dict[y[i]])\n",
        "\n",
        "    return np.array(output)"
      ]
    },
    {
      "cell_type": "code",
      "execution_count": 153,
      "metadata": {
        "colab": {
          "base_uri": "https://localhost:8080/"
        },
        "id": "zNjuXI51IttN",
        "outputId": "ef80c2ce-2591-4db8-a8c2-ba59c47217f8"
      },
      "outputs": [
        {
          "name": "stdout",
          "output_type": "stream",
          "text": [
            "curr active: 0\n",
            "curr device cuda\n",
            "epoch:  0\n",
            "loss 2.9119179248809814\n",
            "accuracy:  0.0625\n",
            "epoch:  1\n",
            "loss 2.794365406036377\n",
            "accuracy:  0.15625\n",
            "epoch:  2\n",
            "loss 2.425367593765259\n",
            "accuracy:  0.25\n",
            "epoch:  3\n",
            "loss 2.6398708820343018\n",
            "accuracy:  0.1875\n",
            "epoch:  4\n",
            "loss 2.6522135734558105\n",
            "accuracy:  0.09375\n",
            "epoch:  5\n",
            "loss 2.627115488052368\n",
            "accuracy:  0.09375\n",
            "epoch:  6\n",
            "loss 2.4786577224731445\n",
            "accuracy:  0.21875\n",
            "epoch:  7\n",
            "loss 2.4263222217559814\n",
            "accuracy:  0.21875\n",
            "epoch:  8\n",
            "loss 2.2471187114715576\n",
            "accuracy:  0.3125\n",
            "epoch:  9\n",
            "loss 2.312094211578369\n",
            "accuracy:  0.3125\n",
            "epoch:  10\n",
            "loss 2.374079704284668\n",
            "accuracy:  0.21875\n",
            "epoch:  11\n",
            "loss 2.1561644077301025\n",
            "accuracy:  0.3125\n",
            "epoch:  12\n",
            "loss 2.4107701778411865\n",
            "accuracy:  0.0625\n",
            "epoch:  13\n",
            "loss 1.9211539030075073\n",
            "accuracy:  0.4375\n",
            "epoch:  14\n",
            "loss 2.0409183502197266\n",
            "accuracy:  0.375\n",
            "epoch:  15\n",
            "loss 1.545218586921692\n",
            "accuracy:  0.5625\n",
            "epoch:  16\n",
            "loss 1.4806487560272217\n",
            "accuracy:  0.5\n",
            "epoch:  17\n",
            "loss 1.3583698272705078\n",
            "accuracy:  0.625\n",
            "epoch:  18\n",
            "loss 1.4060081243515015\n",
            "accuracy:  0.59375\n",
            "epoch:  19\n",
            "loss 0.8763368725776672\n",
            "accuracy:  0.6875\n",
            "epoch:  20\n",
            "loss 1.3596467971801758\n",
            "accuracy:  0.5625\n",
            "epoch:  21\n",
            "loss 0.8925085663795471\n",
            "accuracy:  0.78125\n",
            "epoch:  22\n",
            "loss 0.613214373588562\n",
            "accuracy:  0.78125\n",
            "epoch:  23\n",
            "loss 0.6636279225349426\n",
            "accuracy:  0.75\n",
            "epoch:  24\n",
            "loss 0.8747536540031433\n",
            "accuracy:  0.78125\n",
            "epoch:  25\n",
            "loss 0.42545372247695923\n",
            "accuracy:  0.90625\n",
            "epoch:  26\n",
            "loss 0.5910533666610718\n",
            "accuracy:  0.84375\n",
            "epoch:  27\n",
            "loss 0.6284074783325195\n",
            "accuracy:  0.8125\n",
            "epoch:  28\n",
            "loss 0.3215221166610718\n",
            "accuracy:  0.90625\n",
            "epoch:  29\n",
            "loss 0.30375245213508606\n",
            "accuracy:  0.90625\n",
            "epoch:  30\n",
            "loss 0.4058908224105835\n",
            "accuracy:  0.875\n",
            "epoch:  31\n",
            "loss 0.2100309431552887\n",
            "accuracy:  0.9375\n",
            "epoch:  32\n",
            "loss 0.1365170180797577\n",
            "accuracy:  0.96875\n",
            "epoch:  33\n",
            "loss 0.2467106431722641\n",
            "accuracy:  0.90625\n",
            "epoch:  34\n",
            "loss 0.3113650977611542\n",
            "accuracy:  0.875\n",
            "epoch:  35\n",
            "loss 0.2846582531929016\n",
            "accuracy:  0.90625\n",
            "epoch:  36\n",
            "loss 0.13350991904735565\n",
            "accuracy:  0.96875\n",
            "epoch:  37\n",
            "loss 0.34313201904296875\n",
            "accuracy:  0.84375\n",
            "epoch:  38\n",
            "loss 0.1275443136692047\n",
            "accuracy:  0.9375\n",
            "epoch:  39\n",
            "loss 0.2392488420009613\n",
            "accuracy:  0.9375\n",
            "epoch:  40\n",
            "loss 0.017470823600888252\n",
            "accuracy:  1.0\n",
            "epoch:  41\n",
            "loss 0.20060694217681885\n",
            "accuracy:  0.9375\n",
            "epoch:  42\n",
            "loss 0.1828955113887787\n",
            "accuracy:  0.9375\n",
            "epoch:  43\n",
            "loss 0.018034689128398895\n",
            "accuracy:  1.0\n",
            "epoch:  44\n",
            "loss 0.16570058465003967\n",
            "accuracy:  0.9375\n",
            "epoch:  45\n",
            "loss 0.06772028654813766\n",
            "accuracy:  1.0\n",
            "epoch:  46\n",
            "loss 0.21298527717590332\n",
            "accuracy:  0.9375\n",
            "epoch:  47\n",
            "loss 0.06090933457016945\n",
            "accuracy:  1.0\n",
            "epoch:  48\n",
            "loss 0.047681912779808044\n",
            "accuracy:  1.0\n",
            "epoch:  49\n",
            "loss 0.019885173067450523\n",
            "accuracy:  1.0\n"
          ]
        }
      ],
      "source": [
        "# The training loop\n",
        "print(\"curr active:\", torch.cuda.current_device())\n",
        "print(\"curr device\",device)\n",
        "loss = []\n",
        "accuracy_values = []\n",
        "for epoch in range(num_epochs):\n",
        "    temp = 0\n",
        "    for i, dat in enumerate(train_loader, 0):\n",
        "        X, y = dat\n",
        "        X.cuda()\n",
        "\n",
        "        y = OneHotEncoding(y)\n",
        "        y = torch.tensor(y).cuda()\n",
        "        y = y.type(torch.LongTensor).cuda()\n",
        "    \n",
        "        # Zero the gradient\n",
        "        classifier.zero_grad()\n",
        "\n",
        "        # Get pred\n",
        "        y_pred = classifier(X.cuda())\n",
        "\n",
        "        # Get the evaluation value\n",
        "        lossItem = loss_function(y_pred, y)\n",
        "        accuracy = accuracy_score(y.cpu(), y_pred.max(1)[1].cpu().detach().numpy())\n",
        "        \n",
        "        # Back prop and move next image\n",
        "        lossItem.backward()\n",
        "        optimizer.step()\n",
        "\n",
        "        # Print out the information for each epoch\n",
        "        if i % 100 == 0:\n",
        "            # Store the value for further evaluation\n",
        "            loss.append(lossItem.item())\n",
        "            accuracy_values.append(accuracy)\n",
        "\n",
        "            # Print out the values\n",
        "            print(\"epoch: \", epoch)\n",
        "            print(\"loss\", lossItem.item())\n",
        "            print(\"accuracy: \", accuracy)"
      ]
    },
    {
      "cell_type": "code",
      "execution_count": 154,
      "metadata": {
        "colab": {
          "base_uri": "https://localhost:8080/",
          "height": 487
        },
        "id": "g6ehBUatYEAU",
        "outputId": "8b046bd1-bfe5-4b00-fdb0-d60a59e0992d"
      },
      "outputs": [
        {
          "data": {
            "image/png": "[encoded data removed]",
            "text/plain": [
              "<Figure size 800x500 with 1 Axes>"
            ]
          },
          "metadata": {},
          "output_type": "display_data"
        }
      ],
      "source": [
        "# Plot the model loss\n",
        "plt.figure(figsize=(8,5))\n",
        "plt.title(\"Generator and Discriminator Loss During Training\")\n",
        "plt.plot(loss,label=\"Loss\")\n",
        "plt.xlabel(\"Epoch\")\n",
        "plt.ylabel(\"Loss\")\n",
        "plt.legend()\n",
        "plt.show()"
      ]
    },
    {
      "cell_type": "code",
      "execution_count": 155,
      "metadata": {
        "colab": {
          "base_uri": "https://localhost:8080/",
          "height": 487
        },
        "id": "GBwxEOfDZiGV",
        "outputId": "ac692e7e-e6a1-4392-8f59-166d3b6ff8c4"
      },
      "outputs": [
        {
          "data": {
            "image/png": "[encoded data removed]",
            "text/plain": [
              "<Figure size 800x500 with 1 Axes>"
            ]
          },
          "metadata": {},
          "output_type": "display_data"
        }
      ],
      "source": [
        "# Plot the model accuracy during training\n",
        "plt.figure(figsize=(8,5))\n",
        "plt.title(\"Generator and Discriminator Loss During Training\")\n",
        "plt.plot(accuracy_values,label=\"Loss\")\n",
        "plt.xlabel(\"Epoch\")\n",
        "plt.ylabel(\"Loss\")\n",
        "plt.legend()\n",
        "plt.show()"
      ]
    },
    {
      "cell_type": "code",
      "execution_count": 14,
      "metadata": {
        "id": "ggfvtvH2IwDJ"
      },
      "outputs": [],
      "source": [
        "# Export the model\n",
        "model_name = \"pokemon_classifier.pth\"\n",
        "path = F\"./savedModels/{model_name}\"\n",
        "torch.save(classifier.state_dict(), path)"
      ]
    },
    {
      "cell_type": "code",
      "execution_count": 158,
      "metadata": {
        "colab": {
          "base_uri": "https://localhost:8080/"
        },
        "id": "iMOPIWkKIx4Q",
        "outputId": "0017ca29-487d-4050-803f-b575febbced9"
      },
      "outputs": [
        {
          "name": "stdout",
          "output_type": "stream",
          "text": [
            "Accuracy of the network on the  test images: 11 %\n"
          ]
        }
      ],
      "source": [
        "correct = 0\n",
        "total = 0\n",
        "\n",
        "# Evaluate the performance of the model\n",
        "with torch.no_grad():\n",
        "    for data in test_loader:\n",
        "        images, labels = data\n",
        "        # print(labels)\n",
        "        labels = OneHotEncoding(labels)\n",
        "        # print(labels)\n",
        "        # print(len(labels))\n",
        "        outputs = classifier(images.cuda())\n",
        "        _, predicted = torch.max(outputs.data, 1)\n",
        "        #print(predicted)\n",
        "        for i in range(len(outputs)):\n",
        "            #print(labels[i], predicted[i].detach().numpy())\n",
        "            if(labels[i] == predicted[i].cpu().detach().numpy()):\n",
        "                correct += 1\n",
        "            total += 1\n",
        "\n",
        "print(f'Accuracy of the network on the  test images: {100 * correct // total} %')\n"
      ]
    }
  ],
  "metadata": {
    "accelerator": "GPU",
    "colab": {
      "gpuType": "A100",
      "machine_shape": "hm",
      "provenance": []
    },
    "kernelspec": {
      "display_name": "Python 3",
      "name": "python3"
    },
    "language_info": {
      "name": "python"
    }
  },
  "nbformat": 4,
  "nbformat_minor": 0
}
