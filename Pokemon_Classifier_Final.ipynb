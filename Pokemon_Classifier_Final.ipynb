{
  "cells": [
    {
      "cell_type": "code",
      "execution_count": 107,
      "metadata": {
        "id": "5M2PwTjoKn_Z"
      },
      "outputs": [],
      "source": [
        "# Group 6: Amy Law, Benjamin Mann, Fuyu Wang, Weipeng Wang\n",
        "# Reference: https://pytorch.org/tutorials/beginner/basics/data_tutorial.html, https://pytorch.org/tutorials/beginner/blitz/cifar10_tutorial.html\n"
      ]
    },
    {
      "cell_type": "code",
      "execution_count": 108,
      "metadata": {
        "id": "NQrTf6DQIMpu"
      },
      "outputs": [],
      "source": [
        "# Import the library\n",
        "import os\n",
        "import torch\n",
        "import torch.nn as nn\n",
        "import torch.nn.parallel\n",
        "import torch.utils.data\n",
        "import torchvision.transforms as transforms\n",
        "import numpy as np\n",
        "import torch.nn.functional as F\n",
        "import pandas as pd\n",
        "from sklearn.metrics import confusion_matrix, ConfusionMatrixDisplay, accuracy_score, classification_report\n",
        "from sklearn.model_selection import train_test_split\n",
        "from PIL import Image\n",
        "import matplotlib.pyplot as plt"
      ]
    },
    {
      "cell_type": "code",
      "execution_count": 109,
      "metadata": {
        "colab": {
          "base_uri": "https://localhost:8080/"
        },
        "id": "33w6P9cIIcDS",
        "outputId": "bf4d87d5-ab23-49f5-b73b-1b7b089d4b77"
      },
      "outputs": [
        {
          "name": "stdout",
          "output_type": "stream",
          "text": [
            "Is avail:  True\n",
            "Device count:  1\n",
            "curr active: 0\n",
            "NVIDIA GeForce RTX 2070 SUPER\n",
            "curr device cuda\n"
          ]
        }
      ],
      "source": [
        "# Check the GPU\n",
        "print(\"Is avail: \",torch.cuda.is_available())\n",
        "print(\"Device count: \",torch.cuda.device_count())\n",
        "print(\"curr active:\", torch.cuda.current_device())\n",
        "print(torch.cuda.get_device_name(0))  \n",
        "\n",
        "device = torch.device(\"cuda\" if (torch.cuda.is_available() and torch.cuda.device_count() > 0) else \"cpu\")\n",
        "print(\"curr device\",device)"
      ]
    },
    {
      "cell_type": "code",
      "execution_count": 110,
      "metadata": {
        "id": "HgYmM7ryIdWG"
      },
      "outputs": [],
      "source": [
        "# One hot encoding for types\n",
        "types = ['Bug', 'Dark', 'Dragon', 'Electric', 'Fairy', 'Fighting', 'Fire', 'Flying', 'Ghost', 'Grass', 'Ground', 'Ice', 'Normal', 'Poison', 'Psychic', 'Rock', 'Steel', 'Water']\n",
        "\n",
        "# From 0 to 17, each number represents a type\n",
        "type_dict = {}\n",
        "for i in range(len(types)):\n",
        "    type_dict[types[i]] = i"
      ]
    },
    {
      "cell_type": "code",
      "execution_count": 111,
      "metadata": {
        "id": "J19pd5NLIfXn"
      },
      "outputs": [],
      "source": [
        "# Reference: https://pytorch.org/tutorials/beginner/basics/data_tutorial.html\n",
        "# The dataset can read the csv file and images\n",
        "# It could return image and its corresponding types\n",
        "# Reference: https://pytorch.org/tutorials/beginner/basics/data_tutorial.html\n",
        "class MyDataSet():\n",
        "    def __init__(self, annotations_file, img_dir, transform=None, target_transform=None):\n",
        "        self.img_labels = pd.read_csv(annotations_file)\n",
        "        self.img_dir = img_dir\n",
        "        self.transform = transform\n",
        "        self.target_transform = target_transform\n",
        "\n",
        "    def __len__(self):\n",
        "        return len(self.img_labels)\n",
        "\n",
        "    def __getitem__(self, idx):\n",
        "        img_path = os.path.join(self.img_dir, self.img_labels.iloc[idx, 0])\n",
        "        #image = read_image(img_path + \".png\")\n",
        "        image = Image.open(img_path + \".png\").convert('RGB')\n",
        "        label = self.img_labels.iloc[idx, 1]\n",
        "        if self.transform:\n",
        "            image = self.transform(image)\n",
        "        if self.target_transform:   \n",
        "            label = self.target_transform(label)\n",
        "        return image, label"
      ]
    },
    {
      "cell_type": "code",
      "execution_count": 112,
      "metadata": {
        "id": "ctAQxGmCIhd7"
      },
      "outputs": [],
      "source": [
        "# The Classifier architecture\n",
        "# The input size is 32 x 3 x 128 x 128\n",
        "class Classifier(nn.Module):\n",
        "    def __init__(self):\n",
        "        super().__init__()\n",
        "        self.conv1 = nn.Conv2d(3, 20, kernel_size = 4, stride = 2, padding = 1, bias = False)\n",
        "        self.conv2 = nn.Conv2d(20, 16, kernel_size = 4, stride = 2, padding = 1, bias = False)\n",
        "\n",
        "        self.linear1 = nn.Linear(16 * 8 * 8, 512)\n",
        "        self.linear2 = nn.Linear(512, 128)\n",
        "        self.linear3 = nn.Linear(128, 64)\n",
        "        self.linear4 = nn.Linear(64, 18)\n",
        "\n",
        "        self.activation = nn.ReLU()\n",
        "        self.pool = nn.MaxPool2d(2, 2)\n",
        "        self.dropout = nn.Dropout(p = 0.35)\n",
        "\n",
        "    def forward(self, x):\n",
        "        x = self.pool(self.activation(self.conv1(x)))\n",
        "        x = self.dropout(x)\n",
        "        x = self.pool(self.activation(self.conv2(x)))\n",
        "        x = x.view(-1, 16 * 8 * 8)\n",
        "        x = self.activation(self.linear1(x))\n",
        "        x = self.activation(self.linear2(x))\n",
        "        x = self.activation(self.linear3(x))\n",
        "        x = self.linear4(x)\n",
        "        return x"
      ]
    },
    {
      "cell_type": "code",
      "execution_count": 113,
      "metadata": {
        "colab": {
          "base_uri": "https://localhost:8080/"
        },
        "id": "N0WSubywLkqp",
        "outputId": "f09d6679-6c59-4bfc-a387-e45e3f254f06"
      },
      "outputs": [],
      "source": [
        "dataroot = \"./images/pokemon2\""
      ]
    },
    {
      "cell_type": "code",
      "execution_count": 114,
      "metadata": {
        "id": "MPeXYbAzIlcz"
      },
      "outputs": [],
      "source": [
        "# Set up the data set\n",
        "image_transform = transforms.Compose([transforms.Resize((128, 128)), \n",
        "                                        transforms.ToTensor()\n",
        "                                        ])\n",
        "\n",
        "# pokemon_dataset = MyDataSet('./pokemon.csv', './images/pokemon2/', transform = image_transform)\n",
        "pokemon_dataset = MyDataSet('./pokemon.csv', dataroot, transform = image_transform)\n",
        "pokemon_dataloader = torch.utils.data.DataLoader(pokemon_dataset, batch_size=32, shuffle = True)\n",
        "\n",
        "train_size = int(0.9 * len(pokemon_dataset))\n",
        "test_size = len(pokemon_dataset) - train_size\n",
        "datasetTrain, datasetTest = torch.utils.data.random_split(pokemon_dataset, [train_size, test_size])\n",
        "\n",
        "train_loader = torch.utils.data.DataLoader(datasetTrain, batch_size=32, shuffle=True)\n",
        "test_loader = torch.utils.data.DataLoader(datasetTest, batch_size=32, shuffle=False)"
      ]
    },
    {
      "cell_type": "code",
      "execution_count": 115,
      "metadata": {
        "id": "jXOON33FIpKp"
      },
      "outputs": [],
      "source": [
        "# Number of training epochs\n",
        "num_epochs = 90\n",
        "\n",
        "# Learning rate for optimizers\n",
        "lr = 1e-3\n",
        "\n",
        "# Set up the classifier\n",
        "classifier = Classifier()\n",
        "classifier.cuda()\n",
        "\n",
        "# Set up the optimizer\n",
        "optimizer = torch.optim.Adam(classifier.parameters(), lr = lr)\n",
        "\n",
        "# Loss function\n",
        "loss_function = nn.CrossEntropyLoss()"
      ]
    },
    {
      "cell_type": "code",
      "execution_count": 116,
      "metadata": {
        "id": "a5svMiosIrvr"
      },
      "outputs": [],
      "source": [
        "# The function to one hot encoding the types\n",
        "def OneHotEncoding(y):\n",
        "    output = []\n",
        "    for i in range(len(y)):\n",
        "        output.append(type_dict[y[i]])\n",
        "\n",
        "    return np.array(output)"
      ]
    },
    {
      "cell_type": "code",
      "execution_count": 117,
      "metadata": {
        "colab": {
          "base_uri": "https://localhost:8080/"
        },
        "id": "zNjuXI51IttN",
        "outputId": "28f8dea9-ae5d-409b-d087-6d37f55dbfe1"
      },
      "outputs": [
        {
          "name": "stdout",
          "output_type": "stream",
          "text": [
            "curr active: 0\n",
            "curr device cuda\n",
            "epoch:  0\n",
            "loss 2.8770620822906494\n",
            "accuracy:  0.0\n",
            "epoch:  1\n",
            "loss 2.6648576259613037\n",
            "accuracy:  0.21875\n",
            "epoch:  2\n",
            "loss 2.595285654067993\n",
            "accuracy:  0.125\n",
            "epoch:  3\n",
            "loss 2.572939872741699\n",
            "accuracy:  0.28125\n",
            "epoch:  4\n",
            "loss 2.5771923065185547\n",
            "accuracy:  0.09375\n",
            "epoch:  5\n",
            "loss 2.6074516773223877\n",
            "accuracy:  0.15625\n",
            "epoch:  6\n",
            "loss 2.426309823989868\n",
            "accuracy:  0.25\n",
            "epoch:  7\n",
            "loss 2.2556138038635254\n",
            "accuracy:  0.1875\n",
            "epoch:  8\n",
            "loss 2.5806291103363037\n",
            "accuracy:  0.1875\n",
            "epoch:  9\n",
            "loss 2.3961219787597656\n",
            "accuracy:  0.1875\n",
            "epoch:  10\n",
            "loss 2.242281675338745\n",
            "accuracy:  0.28125\n",
            "epoch:  11\n",
            "loss 2.1790060997009277\n",
            "accuracy:  0.40625\n",
            "epoch:  12\n",
            "loss 2.2591500282287598\n",
            "accuracy:  0.28125\n",
            "epoch:  13\n",
            "loss 2.1172516345977783\n",
            "accuracy:  0.28125\n",
            "epoch:  14\n",
            "loss 1.698277235031128\n",
            "accuracy:  0.46875\n",
            "epoch:  15\n",
            "loss 1.816601037979126\n",
            "accuracy:  0.3125\n",
            "epoch:  16\n",
            "loss 1.6618099212646484\n",
            "accuracy:  0.46875\n",
            "epoch:  17\n",
            "loss 1.666879415512085\n",
            "accuracy:  0.5\n",
            "epoch:  18\n",
            "loss 1.3760567903518677\n",
            "accuracy:  0.5\n",
            "epoch:  19\n",
            "loss 1.659057855606079\n",
            "accuracy:  0.40625\n",
            "epoch:  20\n",
            "loss 0.97333824634552\n",
            "accuracy:  0.6875\n",
            "epoch:  21\n",
            "loss 1.2523568868637085\n",
            "accuracy:  0.625\n",
            "epoch:  22\n",
            "loss 1.012376070022583\n",
            "accuracy:  0.75\n",
            "epoch:  23\n",
            "loss 0.9538618326187134\n",
            "accuracy:  0.65625\n",
            "epoch:  24\n",
            "loss 0.6575406789779663\n",
            "accuracy:  0.78125\n",
            "epoch:  25\n",
            "loss 0.6562432050704956\n",
            "accuracy:  0.78125\n",
            "epoch:  26\n",
            "loss 0.7091385126113892\n",
            "accuracy:  0.8125\n",
            "epoch:  27\n",
            "loss 0.6505694389343262\n",
            "accuracy:  0.71875\n",
            "epoch:  28\n",
            "loss 0.8236002922058105\n",
            "accuracy:  0.71875\n",
            "epoch:  29\n",
            "loss 0.5886180996894836\n",
            "accuracy:  0.875\n",
            "epoch:  30\n",
            "loss 0.7108284831047058\n",
            "accuracy:  0.71875\n",
            "epoch:  31\n",
            "loss 0.6511539220809937\n",
            "accuracy:  0.78125\n",
            "epoch:  32\n",
            "loss 0.4165447950363159\n",
            "accuracy:  0.9375\n",
            "epoch:  33\n",
            "loss 0.2772645354270935\n",
            "accuracy:  0.90625\n",
            "epoch:  34\n",
            "loss 0.24287928640842438\n",
            "accuracy:  0.90625\n",
            "epoch:  35\n",
            "loss 0.4480718672275543\n",
            "accuracy:  0.84375\n",
            "epoch:  36\n",
            "loss 0.22196003794670105\n",
            "accuracy:  0.90625\n",
            "epoch:  37\n",
            "loss 0.28737127780914307\n",
            "accuracy:  0.9375\n",
            "epoch:  38\n",
            "loss 0.0724945217370987\n",
            "accuracy:  1.0\n",
            "epoch:  39\n",
            "loss 0.1116369217634201\n",
            "accuracy:  0.96875\n",
            "epoch:  40\n",
            "loss 0.2807680070400238\n",
            "accuracy:  0.90625\n",
            "epoch:  41\n",
            "loss 0.08423328399658203\n",
            "accuracy:  0.96875\n",
            "epoch:  42\n",
            "loss 0.12257009744644165\n",
            "accuracy:  0.96875\n",
            "epoch:  43\n",
            "loss 0.18481941521167755\n",
            "accuracy:  0.96875\n",
            "epoch:  44\n",
            "loss 0.11026058346033096\n",
            "accuracy:  0.96875\n",
            "epoch:  45\n",
            "loss 0.21405908465385437\n",
            "accuracy:  0.9375\n",
            "epoch:  46\n",
            "loss 0.3753066062927246\n",
            "accuracy:  0.9375\n",
            "epoch:  47\n",
            "loss 0.15682576596736908\n",
            "accuracy:  0.9375\n",
            "epoch:  48\n",
            "loss 0.1178840845823288\n",
            "accuracy:  0.96875\n",
            "epoch:  49\n",
            "loss 0.037769902497529984\n",
            "accuracy:  1.0\n",
            "epoch:  50\n",
            "loss 0.022154491394758224\n",
            "accuracy:  1.0\n",
            "epoch:  51\n",
            "loss 0.06619187444448471\n",
            "accuracy:  1.0\n",
            "epoch:  52\n",
            "loss 0.11200536787509918\n",
            "accuracy:  0.96875\n",
            "epoch:  53\n",
            "loss 0.06719174236059189\n",
            "accuracy:  0.96875\n",
            "epoch:  54\n",
            "loss 0.10546479374170303\n",
            "accuracy:  0.96875\n",
            "epoch:  55\n",
            "loss 0.011984664015471935\n",
            "accuracy:  1.0\n",
            "epoch:  56\n",
            "loss 0.09743531793355942\n",
            "accuracy:  0.96875\n",
            "epoch:  57\n",
            "loss 0.007282601669430733\n",
            "accuracy:  1.0\n",
            "epoch:  58\n",
            "loss 0.009711271151900291\n",
            "accuracy:  1.0\n",
            "epoch:  59\n",
            "loss 0.05016298592090607\n",
            "accuracy:  1.0\n",
            "epoch:  60\n",
            "loss 0.0160506758838892\n",
            "accuracy:  1.0\n",
            "epoch:  61\n",
            "loss 0.1342507302761078\n",
            "accuracy:  0.9375\n",
            "epoch:  62\n",
            "loss 0.19939705729484558\n",
            "accuracy:  0.9375\n",
            "epoch:  63\n",
            "loss 0.11976179480552673\n",
            "accuracy:  0.96875\n",
            "epoch:  64\n",
            "loss 0.17611731588840485\n",
            "accuracy:  0.9375\n",
            "epoch:  65\n",
            "loss 0.09826924651861191\n",
            "accuracy:  0.96875\n",
            "epoch:  66\n",
            "loss 0.20363040268421173\n",
            "accuracy:  0.96875\n",
            "epoch:  67\n",
            "loss 0.013652872294187546\n",
            "accuracy:  1.0\n",
            "epoch:  68\n",
            "loss 0.025023842230439186\n",
            "accuracy:  1.0\n",
            "epoch:  69\n",
            "loss 0.00987741444259882\n",
            "accuracy:  1.0\n",
            "epoch:  70\n",
            "loss 0.007809710688889027\n",
            "accuracy:  1.0\n",
            "epoch:  71\n",
            "loss 0.0023441931698471308\n",
            "accuracy:  1.0\n",
            "epoch:  72\n",
            "loss 0.006203890778124332\n",
            "accuracy:  1.0\n",
            "epoch:  73\n",
            "loss 0.012466922402381897\n",
            "accuracy:  1.0\n",
            "epoch:  74\n",
            "loss 0.000667617074213922\n",
            "accuracy:  1.0\n",
            "epoch:  75\n",
            "loss 0.0009244801476597786\n",
            "accuracy:  1.0\n",
            "epoch:  76\n",
            "loss 0.002293391153216362\n",
            "accuracy:  1.0\n",
            "epoch:  77\n",
            "loss 0.013073897920548916\n",
            "accuracy:  1.0\n",
            "epoch:  78\n",
            "loss 0.001683070557191968\n",
            "accuracy:  1.0\n",
            "epoch:  79\n",
            "loss 0.005766264162957668\n",
            "accuracy:  1.0\n",
            "epoch:  80\n",
            "loss 0.0015272203600034118\n",
            "accuracy:  1.0\n",
            "epoch:  81\n",
            "loss 0.004269369412213564\n",
            "accuracy:  1.0\n",
            "epoch:  82\n",
            "loss 0.014150210656225681\n",
            "accuracy:  1.0\n",
            "epoch:  83\n",
            "loss 0.002352534094825387\n",
            "accuracy:  1.0\n",
            "epoch:  84\n",
            "loss 0.002049650764092803\n",
            "accuracy:  1.0\n",
            "epoch:  85\n",
            "loss 0.0005580424331128597\n",
            "accuracy:  1.0\n",
            "epoch:  86\n",
            "loss 0.0030204509384930134\n",
            "accuracy:  1.0\n",
            "epoch:  87\n",
            "loss 0.0023960673715919256\n",
            "accuracy:  1.0\n",
            "epoch:  88\n",
            "loss 0.0041465116664767265\n",
            "accuracy:  1.0\n",
            "epoch:  89\n",
            "loss 0.003190689953044057\n",
            "accuracy:  1.0\n"
          ]
        }
      ],
      "source": [
        "# The training loop\n",
        "print(\"curr active:\", torch.cuda.current_device())\n",
        "print(\"curr device\",device)\n",
        "loss = []\n",
        "accuracy_values = []\n",
        "for epoch in range(num_epochs):\n",
        "    temp = 0\n",
        "    for i, dat in enumerate(train_loader, 0):\n",
        "        X, y = dat\n",
        "        X.cuda()\n",
        "\n",
        "        y = OneHotEncoding(y)\n",
        "        y = torch.tensor(y).cuda()\n",
        "        y = y.type(torch.LongTensor).cuda()\n",
        "    \n",
        "        # Zero the gradient\n",
        "        classifier.zero_grad()\n",
        "\n",
        "        # Get pred\n",
        "        y_pred = classifier(X.cuda())\n",
        "\n",
        "        # Get the evaluation value\n",
        "        lossItem = loss_function(y_pred, y)\n",
        "        accuracy = accuracy_score(y.cpu(), y_pred.max(1)[1].cpu().detach().numpy())\n",
        "        \n",
        "        # Back prop and move next image\n",
        "        lossItem.backward()\n",
        "        optimizer.step()\n",
        "\n",
        "        # Print out the information for each epoch\n",
        "        if i % 100 == 0:\n",
        "            # Store the value for further evaluation\n",
        "            loss.append(lossItem.item())\n",
        "            accuracy_values.append(accuracy)\n",
        "\n",
        "            # Print out the values\n",
        "            print(\"epoch: \", epoch)\n",
        "            print(\"loss\", lossItem.item())\n",
        "            print(\"accuracy: \", accuracy)"
      ]
    },
    {
      "cell_type": "code",
      "execution_count": 122,
      "metadata": {
        "colab": {
          "base_uri": "https://localhost:8080/",
          "height": 487
        },
        "id": "g6ehBUatYEAU",
        "outputId": "2dd57abe-1c32-41d9-c128-28e97672e13e"
      },
      "outputs": [
        {
          "data": {
            "image/png": "[encoded data removed]",
            "text/plain": [
              "<Figure size 800x500 with 1 Axes>"
            ]
          },
          "metadata": {},
          "output_type": "display_data"
        }
      ],
      "source": [
        "# Plot the model loss\n",
        "plt.figure(figsize=(8,5))\n",
        "plt.title(\"Classifier Loss During Training\")\n",
        "plt.plot(loss,label=\"Loss\")\n",
        "plt.xlabel(\"Epoch\")\n",
        "plt.ylabel(\"Loss\")\n",
        "plt.legend()\n",
        "plt.show()"
      ]
    },
    {
      "cell_type": "code",
      "execution_count": 124,
      "metadata": {
        "colab": {
          "base_uri": "https://localhost:8080/",
          "height": 487
        },
        "id": "GBwxEOfDZiGV",
        "outputId": "8704b490-90b1-40cb-a8ab-f558b140ea50"
      },
      "outputs": [
        {
          "data": {
            "image/png": "[encoded data removed]",
            "text/plain": [
              "<Figure size 800x500 with 1 Axes>"
            ]
          },
          "metadata": {},
          "output_type": "display_data"
        }
      ],
      "source": [
        "# Plot the model accuracy during training\n",
        "plt.figure(figsize=(8,5))\n",
        "plt.title(\"Classifier accuracy During Training\")\n",
        "plt.plot(accuracy_values,label=\"Accuracy\")\n",
        "plt.xlabel(\"Epoch\")\n",
        "plt.ylabel(\"Accuracy\")\n",
        "plt.legend()\n",
        "plt.show()"
      ]
    },
    {
      "cell_type": "code",
      "execution_count": 120,
      "metadata": {
        "id": "ggfvtvH2IwDJ"
      },
      "outputs": [],
      "source": [
        "# Export the model\n",
        "model_name = \"pokemon_classifier.pth\"\n",
        "path = F\"./savedModels/{model_name}\"\n",
        "torch.save(classifier.state_dict(), path)"
      ]
    },
    {
      "cell_type": "code",
      "execution_count": 121,
      "metadata": {
        "colab": {
          "base_uri": "https://localhost:8080/"
        },
        "id": "iMOPIWkKIx4Q",
        "outputId": "bb0f964e-8284-4786-c6ba-308cc927fa1b"
      },
      "outputs": [
        {
          "name": "stdout",
          "output_type": "stream",
          "text": [
            "Accuracy of the network on the  test images: 90 %\n"
          ]
        }
      ],
      "source": [
        "correct = 0\n",
        "total = 0\n",
        "\n",
        "# Evaluate the performance of the model\n",
        "with torch.no_grad():\n",
        "    for data in pokemon_dataloader:\n",
        "        images, labels = data\n",
        "        # print(labels)\n",
        "        labels = OneHotEncoding(labels)\n",
        "        # print(labels)\n",
        "        # print(len(labels))\n",
        "        outputs = classifier(images.cuda())\n",
        "        _, predicted = torch.max(outputs.data, 1)\n",
        "        #print(predicted)\n",
        "        for i in range(len(outputs)):\n",
        "            #print(labels[i], predicted[i].detach().numpy())\n",
        "            if(labels[i] == predicted[i].cpu().detach().numpy()):\n",
        "                correct += 1\n",
        "            total += 1\n",
        "\n",
        "print(f'Accuracy of the network on the  test images: {100 * correct // total} %')\n"
      ]
    }
  ],
  "metadata": {
    "accelerator": "GPU",
    "colab": {
      "gpuType": "A100",
      "machine_shape": "hm",
      "provenance": []
    },
    "kernelspec": {
      "display_name": "Python 3",
      "name": "python3"
    },
    "language_info": {
      "codemirror_mode": {
        "name": "ipython",
        "version": 3
      },
      "file_extension": ".py",
      "mimetype": "text/x-python",
      "name": "python",
      "nbconvert_exporter": "python",
      "pygments_lexer": "ipython3",
      "version": "3.9.2"
    }
  },
  "nbformat": 4,
  "nbformat_minor": 0
}
