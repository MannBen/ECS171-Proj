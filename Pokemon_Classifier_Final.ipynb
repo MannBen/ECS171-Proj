{
  "nbformat": 4,
  "nbformat_minor": 0,
  "metadata": {
    "colab": {
      "provenance": [],
      "machine_shape": "hm",
      "gpuType": "A100"
    },
    "kernelspec": {
      "name": "python3",
      "display_name": "Python 3"
    },
    "language_info": {
      "name": "python"
    },
    "accelerator": "GPU"
  },
  "cells": [
    {
      "cell_type": "code",
      "source": [
        "# Group 6: Amy Law, Benjamin Mann, Fuyu Wang, Weipeng Wang\n",
        "# Reference: https://pytorch.org/tutorials/beginner/basics/data_tutorial.html, https://pytorch.org/tutorials/beginner/blitz/cifar10_tutorial.html\n"
      ],
      "metadata": {
        "id": "5M2PwTjoKn_Z"
      },
      "execution_count": 1,
      "outputs": []
    },
    {
      "cell_type": "code",
      "execution_count": 2,
      "metadata": {
        "id": "NQrTf6DQIMpu"
      },
      "outputs": [],
      "source": [
        "# Import the library\n",
        "import os\n",
        "import torch\n",
        "import torch.nn as nn\n",
        "import torch.nn.parallel\n",
        "import torch.utils.data\n",
        "import torchvision.transforms as transforms\n",
        "import numpy as np\n",
        "import torch.nn.functional as F\n",
        "import pandas as pd\n",
        "from sklearn.metrics import confusion_matrix, ConfusionMatrixDisplay, accuracy_score, classification_report\n",
        "from sklearn.model_selection import train_test_split\n",
        "from PIL import Image\n",
        "import matplotlib.pyplot as plt"
      ]
    },
    {
      "cell_type": "code",
      "source": [
        "# Check the GPU\n",
        "print(\"Is avail: \",torch.cuda.is_available())\n",
        "print(\"Device count: \",torch.cuda.device_count())\n",
        "print(\"curr active:\", torch.cuda.current_device())\n",
        "print(torch.cuda.get_device_name(0))  \n",
        "\n",
        "device = torch.device(\"cuda\" if (torch.cuda.is_available() and torch.cuda.device_count() > 0) else \"cpu\")\n",
        "print(\"curr device\",device)"
      ],
      "metadata": {
        "id": "33w6P9cIIcDS",
        "colab": {
          "base_uri": "https://localhost:8080/"
        },
        "outputId": "bf4d87d5-ab23-49f5-b73b-1b7b089d4b77"
      },
      "execution_count": 3,
      "outputs": [
        {
          "output_type": "stream",
          "name": "stdout",
          "text": [
            "Is avail:  True\n",
            "Device count:  1\n",
            "curr active: 0\n",
            "NVIDIA A100-SXM4-40GB\n",
            "curr device cuda\n"
          ]
        }
      ]
    },
    {
      "cell_type": "code",
      "source": [
        "# One hot encoding for types\n",
        "types = ['Bug', 'Dark', 'Dragon', 'Electric', 'Fairy', 'Fighting', 'Fire', 'Flying', 'Ghost', 'Grass', 'Ground', 'Ice', 'Normal', 'Poison', 'Psychic', 'Rock', 'Steel', 'Water']\n",
        "\n",
        "# From 0 to 17, each number represents a type\n",
        "type_dict = {}\n",
        "for i in range(len(types)):\n",
        "    type_dict[types[i]] = i"
      ],
      "metadata": {
        "id": "HgYmM7ryIdWG"
      },
      "execution_count": 4,
      "outputs": []
    },
    {
      "cell_type": "code",
      "source": [
        "# Reference: https://pytorch.org/tutorials/beginner/basics/data_tutorial.html\n",
        "# The dataset can read the csv file and images\n",
        "# It could return image and its corresponding types\n",
        "class MyDataSet():\n",
        "    def __init__(self, csv_file, img_dir, transform=None, target_transform=None):\n",
        "        self.img_labels = pd.read_csv(csv_file)\n",
        "        self.img_dir = img_dir\n",
        "        self.transform = transform\n",
        "        self.target_transform = target_transform\n",
        "\n",
        "    def __len__(self):\n",
        "        return len(self.img_labels)\n",
        "\n",
        "    def __getitem__(self, idx):\n",
        "        # Get the path of the image\n",
        "        img_path = os.path.join(self.img_dir, self.img_labels.iloc[idx, 0])\n",
        "        # Read the image and convert the format into RGB\n",
        "        image = Image.open(img_path + \".png2.png\").convert('RGB')\n",
        "        label = self.img_labels.iloc[idx, 1]\n",
        "        if self.transform:\n",
        "            image = self.transform(image)\n",
        "        if self.target_transform:   \n",
        "            label = self.target_transform(label)\n",
        "        return image, label"
      ],
      "metadata": {
        "id": "J19pd5NLIfXn"
      },
      "execution_count": 5,
      "outputs": []
    },
    {
      "cell_type": "code",
      "source": [
        "# The Classifier architecture\n",
        "# The input size is 32 x 3 x 128 x 128\n",
        "class Classifier(nn.Module):\n",
        "    def __init__(self):\n",
        "        super().__init__()\n",
        "        self.conv1 = nn.Conv2d(3, 20, kernel_size = 4, stride = 2, padding = 1, bias = False)\n",
        "        self.conv2 = nn.Conv2d(20, 16, kernel_size = 4, stride = 2, padding = 1, bias = False)\n",
        "\n",
        "        self.linear1 = nn.Linear(16 * 8 * 8, 512)\n",
        "        self.linear2 = nn.Linear(512, 128)\n",
        "        self.linear3 = nn.Linear(128, 64)\n",
        "        self.linear4 = nn.Linear(64, 18)\n",
        "\n",
        "        self.activation = nn.ReLU()\n",
        "        self.pool = nn.MaxPool2d(2, 2)\n",
        "        self.dropout = nn.Dropout(p = 0.35)\n",
        "\n",
        "    def forward(self, x):\n",
        "        x = self.pool(self.activation(self.conv1(x)))\n",
        "        x = self.dropout(x)\n",
        "        x = self.pool(self.activation(self.conv2(x)))\n",
        "        x = x.view(-1, 16 * 8 * 8)\n",
        "        x = self.activation(self.linear1(x))\n",
        "        x = self.activation(self.linear2(x))\n",
        "        x = self.activation(self.linear3(x))\n",
        "        x = self.linear4(x)\n",
        "        return x"
      ],
      "metadata": {
        "id": "ctAQxGmCIhd7"
      },
      "execution_count": 6,
      "outputs": []
    },
    {
      "cell_type": "code",
      "source": [
        "from google.colab import drive\n",
        "drive.mount('/content/drive')\n",
        "\n",
        "dataroot = \"/content/drive/MyDrive/ecs171_data/pokemon2/\""
      ],
      "metadata": {
        "colab": {
          "base_uri": "https://localhost:8080/"
        },
        "id": "N0WSubywLkqp",
        "outputId": "f09d6679-6c59-4bfc-a387-e45e3f254f06"
      },
      "execution_count": 7,
      "outputs": [
        {
          "output_type": "stream",
          "name": "stdout",
          "text": [
            "Drive already mounted at /content/drive; to attempt to forcibly remount, call drive.mount(\"/content/drive\", force_remount=True).\n"
          ]
        }
      ]
    },
    {
      "cell_type": "code",
      "source": [
        "# Set up the data set\n",
        "image_transform = transforms.Compose([transforms.Resize((128, 128)), \n",
        "                                        transforms.ToTensor()\n",
        "                                        ])\n",
        "\n",
        "# pokemon_dataset = MyDataSet('./pokemon.csv', './images/pokemon2/', transform = image_transform)\n",
        "pokemon_dataset = MyDataSet('/content/drive/MyDrive/pokemon.csv', '/content/drive/MyDrive/ecs171_data/pokemon2/', transform = image_transform)\n",
        "pokemon_dataloader = torch.utils.data.DataLoader(pokemon_dataset, batch_size=32, shuffle = True)\n",
        "\n",
        "train_size = int(0.9 * len(pokemon_dataset))\n",
        "test_size = len(pokemon_dataset) - train_size\n",
        "datasetTrain, datasetTest = torch.utils.data.random_split(pokemon_dataset, [train_size, test_size])\n",
        "\n",
        "train_loader = torch.utils.data.DataLoader(datasetTrain, batch_size=32, shuffle=True)\n",
        "test_loader = torch.utils.data.DataLoader(datasetTest, batch_size=32, shuffle=False)"
      ],
      "metadata": {
        "id": "MPeXYbAzIlcz"
      },
      "execution_count": 8,
      "outputs": []
    },
    {
      "cell_type": "code",
      "source": [
        "# Number of training epochs\n",
        "num_epochs = 90\n",
        "\n",
        "# Learning rate for optimizers\n",
        "lr = 1e-3\n",
        "\n",
        "# Set up the classifier\n",
        "classifier = Classifier()\n",
        "classifier.cuda()\n",
        "\n",
        "# Set up the optimizer\n",
        "optimizer = torch.optim.Adam(classifier.parameters(), lr = lr)\n",
        "\n",
        "# Loss function\n",
        "loss_function = nn.CrossEntropyLoss()"
      ],
      "metadata": {
        "id": "jXOON33FIpKp"
      },
      "execution_count": 9,
      "outputs": []
    },
    {
      "cell_type": "code",
      "source": [
        "# The function to one hot encoding the types\n",
        "def OneHotEncoding(y):\n",
        "    output = []\n",
        "    for i in range(len(y)):\n",
        "        output.append(type_dict[y[i]])\n",
        "\n",
        "    return np.array(output)"
      ],
      "metadata": {
        "id": "a5svMiosIrvr"
      },
      "execution_count": 10,
      "outputs": []
    },
    {
      "cell_type": "code",
      "source": [
        "# The training loop\n",
        "print(\"curr active:\", torch.cuda.current_device())\n",
        "print(\"curr device\",device)\n",
        "loss = []\n",
        "accuracy_values = []\n",
        "for epoch in range(num_epochs):\n",
        "    temp = 0\n",
        "    for i, dat in enumerate(train_loader, 0):\n",
        "        X, y = dat\n",
        "        X.cuda()\n",
        "\n",
        "        y = OneHotEncoding(y)\n",
        "        y = torch.tensor(y).cuda()\n",
        "        y = y.type(torch.LongTensor).cuda()\n",
        "    \n",
        "        # Zero the gradient\n",
        "        classifier.zero_grad()\n",
        "\n",
        "        # Get pred\n",
        "        y_pred = classifier(X.cuda())\n",
        "\n",
        "        # Get the evaluation value\n",
        "        lossItem = loss_function(y_pred, y)\n",
        "        accuracy = accuracy_score(y.cpu(), y_pred.max(1)[1].cpu().detach().numpy())\n",
        "        \n",
        "        # Back prop and move next image\n",
        "        lossItem.backward()\n",
        "        optimizer.step()\n",
        "\n",
        "        # Print out the information for each epoch\n",
        "        if i % 100 == 0:\n",
        "            # Store the value for further evaluation\n",
        "            loss.append(lossItem.item())\n",
        "            accuracy_values.append(accuracy)\n",
        "\n",
        "            # Print out the values\n",
        "            print(\"epoch: \", epoch)\n",
        "            print(\"loss\", lossItem.item())\n",
        "            print(\"accuracy: \", accuracy)"
      ],
      "metadata": {
        "id": "zNjuXI51IttN",
        "colab": {
          "base_uri": "https://localhost:8080/"
        },
        "outputId": "28f8dea9-ae5d-409b-d087-6d37f55dbfe1"
      },
      "execution_count": 11,
      "outputs": [
        {
          "output_type": "stream",
          "name": "stdout",
          "text": [
            "curr active: 0\n",
            "curr device cuda\n",
            "epoch:  0\n",
            "loss 2.862523317337036\n",
            "accuracy:  0.21875\n",
            "epoch:  1\n",
            "loss 2.7423977851867676\n",
            "accuracy:  0.125\n",
            "epoch:  2\n",
            "loss 2.768906831741333\n",
            "accuracy:  0.125\n",
            "epoch:  3\n",
            "loss 2.660797357559204\n",
            "accuracy:  0.125\n",
            "epoch:  4\n",
            "loss 2.535752773284912\n",
            "accuracy:  0.15625\n",
            "epoch:  5\n",
            "loss 2.846736192703247\n",
            "accuracy:  0.03125\n",
            "epoch:  6\n",
            "loss 2.775496482849121\n",
            "accuracy:  0.03125\n",
            "epoch:  7\n",
            "loss 2.663235664367676\n",
            "accuracy:  0.125\n",
            "epoch:  8\n",
            "loss 2.448617935180664\n",
            "accuracy:  0.21875\n",
            "epoch:  9\n",
            "loss 2.600003480911255\n",
            "accuracy:  0.1875\n",
            "epoch:  10\n",
            "loss 2.2170801162719727\n",
            "accuracy:  0.34375\n",
            "epoch:  11\n",
            "loss 2.543780565261841\n",
            "accuracy:  0.25\n",
            "epoch:  12\n",
            "loss 2.4402010440826416\n",
            "accuracy:  0.28125\n",
            "epoch:  13\n",
            "loss 1.9660156965255737\n",
            "accuracy:  0.375\n",
            "epoch:  14\n",
            "loss 1.9406622648239136\n",
            "accuracy:  0.375\n",
            "epoch:  15\n",
            "loss 1.8433239459991455\n",
            "accuracy:  0.375\n",
            "epoch:  16\n",
            "loss 2.1061575412750244\n",
            "accuracy:  0.28125\n",
            "epoch:  17\n",
            "loss 1.8461856842041016\n",
            "accuracy:  0.4375\n",
            "epoch:  18\n",
            "loss 1.5123111009597778\n",
            "accuracy:  0.46875\n",
            "epoch:  19\n",
            "loss 1.3761581182479858\n",
            "accuracy:  0.59375\n",
            "epoch:  20\n",
            "loss 1.928161859512329\n",
            "accuracy:  0.4375\n",
            "epoch:  21\n",
            "loss 1.2994632720947266\n",
            "accuracy:  0.59375\n",
            "epoch:  22\n",
            "loss 1.3560816049575806\n",
            "accuracy:  0.5\n",
            "epoch:  23\n",
            "loss 0.823143720626831\n",
            "accuracy:  0.78125\n",
            "epoch:  24\n",
            "loss 0.9183662533760071\n",
            "accuracy:  0.75\n",
            "epoch:  25\n",
            "loss 0.8514921069145203\n",
            "accuracy:  0.71875\n",
            "epoch:  26\n",
            "loss 0.5345220565795898\n",
            "accuracy:  0.8125\n",
            "epoch:  27\n",
            "loss 0.6747953295707703\n",
            "accuracy:  0.84375\n",
            "epoch:  28\n",
            "loss 0.43487364053726196\n",
            "accuracy:  0.84375\n",
            "epoch:  29\n",
            "loss 0.6513016819953918\n",
            "accuracy:  0.75\n",
            "epoch:  30\n",
            "loss 0.42683324217796326\n",
            "accuracy:  0.84375\n",
            "epoch:  31\n",
            "loss 0.40413999557495117\n",
            "accuracy:  0.90625\n",
            "epoch:  32\n",
            "loss 0.28625431656837463\n",
            "accuracy:  0.9375\n",
            "epoch:  33\n",
            "loss 0.4802279472351074\n",
            "accuracy:  0.875\n",
            "epoch:  34\n",
            "loss 0.1907789558172226\n",
            "accuracy:  0.9375\n",
            "epoch:  35\n",
            "loss 0.13946296274662018\n",
            "accuracy:  0.96875\n",
            "epoch:  36\n",
            "loss 0.3636963665485382\n",
            "accuracy:  0.875\n",
            "epoch:  37\n",
            "loss 0.2892494201660156\n",
            "accuracy:  0.84375\n",
            "epoch:  38\n",
            "loss 0.22341811656951904\n",
            "accuracy:  0.96875\n",
            "epoch:  39\n",
            "loss 0.17797069251537323\n",
            "accuracy:  0.96875\n",
            "epoch:  40\n",
            "loss 0.08344767242670059\n",
            "accuracy:  0.96875\n",
            "epoch:  41\n",
            "loss 0.08662696927785873\n",
            "accuracy:  0.96875\n",
            "epoch:  42\n",
            "loss 0.3775748610496521\n",
            "accuracy:  0.9375\n",
            "epoch:  43\n",
            "loss 0.05455267056822777\n",
            "accuracy:  1.0\n",
            "epoch:  44\n",
            "loss 0.022917430847883224\n",
            "accuracy:  1.0\n",
            "epoch:  45\n",
            "loss 0.01729680597782135\n",
            "accuracy:  1.0\n",
            "epoch:  46\n",
            "loss 0.009934023953974247\n",
            "accuracy:  1.0\n",
            "epoch:  47\n",
            "loss 0.007086420897394419\n",
            "accuracy:  1.0\n",
            "epoch:  48\n",
            "loss 0.0085296044126153\n",
            "accuracy:  1.0\n",
            "epoch:  49\n",
            "loss 0.13099387288093567\n",
            "accuracy:  0.96875\n",
            "epoch:  50\n",
            "loss 0.013602524995803833\n",
            "accuracy:  1.0\n",
            "epoch:  51\n",
            "loss 0.03357383981347084\n",
            "accuracy:  1.0\n",
            "epoch:  52\n",
            "loss 0.0191670972853899\n",
            "accuracy:  1.0\n",
            "epoch:  53\n",
            "loss 0.0246942937374115\n",
            "accuracy:  1.0\n",
            "epoch:  54\n",
            "loss 0.02231476455926895\n",
            "accuracy:  1.0\n",
            "epoch:  55\n",
            "loss 0.2502952814102173\n",
            "accuracy:  0.90625\n",
            "epoch:  56\n",
            "loss 0.07447957247495651\n",
            "accuracy:  0.96875\n",
            "epoch:  57\n",
            "loss 0.03731856122612953\n",
            "accuracy:  0.96875\n",
            "epoch:  58\n",
            "loss 0.08309907466173172\n",
            "accuracy:  0.96875\n",
            "epoch:  59\n",
            "loss 0.11971825361251831\n",
            "accuracy:  0.9375\n",
            "epoch:  60\n",
            "loss 0.0369943231344223\n",
            "accuracy:  0.96875\n",
            "epoch:  61\n",
            "loss 0.001453704317100346\n",
            "accuracy:  1.0\n",
            "epoch:  62\n",
            "loss 0.0019044853979721665\n",
            "accuracy:  1.0\n",
            "epoch:  63\n",
            "loss 0.0035849164705723524\n",
            "accuracy:  1.0\n",
            "epoch:  64\n",
            "loss 0.005925188306719065\n",
            "accuracy:  1.0\n",
            "epoch:  65\n",
            "loss 0.0009601832716725767\n",
            "accuracy:  1.0\n",
            "epoch:  66\n",
            "loss 0.0008768544648773968\n",
            "accuracy:  1.0\n",
            "epoch:  67\n",
            "loss 0.007498707622289658\n",
            "accuracy:  1.0\n",
            "epoch:  68\n",
            "loss 0.006848209071904421\n",
            "accuracy:  1.0\n",
            "epoch:  69\n",
            "loss 0.07456112653017044\n",
            "accuracy:  0.96875\n",
            "epoch:  70\n",
            "loss 0.005074384622275829\n",
            "accuracy:  1.0\n",
            "epoch:  71\n",
            "loss 0.009937791153788567\n",
            "accuracy:  1.0\n",
            "epoch:  72\n",
            "loss 0.010866006836295128\n",
            "accuracy:  1.0\n",
            "epoch:  73\n",
            "loss 0.004799969494342804\n",
            "accuracy:  1.0\n",
            "epoch:  74\n",
            "loss 0.0016939548077061772\n",
            "accuracy:  1.0\n",
            "epoch:  75\n",
            "loss 0.0022367273923009634\n",
            "accuracy:  1.0\n",
            "epoch:  76\n",
            "loss 0.002060145838186145\n",
            "accuracy:  1.0\n",
            "epoch:  77\n",
            "loss 0.0010445246007293463\n",
            "accuracy:  1.0\n",
            "epoch:  78\n",
            "loss 0.007453720550984144\n",
            "accuracy:  1.0\n",
            "epoch:  79\n",
            "loss 0.23101356625556946\n",
            "accuracy:  0.96875\n",
            "epoch:  80\n",
            "loss 0.037042293697595596\n",
            "accuracy:  1.0\n",
            "epoch:  81\n",
            "loss 0.014050683006644249\n",
            "accuracy:  1.0\n",
            "epoch:  82\n",
            "loss 0.013489791192114353\n",
            "accuracy:  1.0\n",
            "epoch:  83\n",
            "loss 0.0006419176352210343\n",
            "accuracy:  1.0\n",
            "epoch:  84\n",
            "loss 0.005078558344393969\n",
            "accuracy:  1.0\n",
            "epoch:  85\n",
            "loss 0.0015845930902287364\n",
            "accuracy:  1.0\n",
            "epoch:  86\n",
            "loss 0.0021874115336686373\n",
            "accuracy:  1.0\n",
            "epoch:  87\n",
            "loss 0.0017318554455414414\n",
            "accuracy:  1.0\n",
            "epoch:  88\n",
            "loss 0.0016997557831928134\n",
            "accuracy:  1.0\n",
            "epoch:  89\n",
            "loss 0.04963932931423187\n",
            "accuracy:  1.0\n"
          ]
        }
      ]
    },
    {
      "cell_type": "code",
      "source": [
        "# Plot the model loss\n",
        "plt.figure(figsize=(8,5))\n",
        "plt.title(\"Generator and Discriminator Loss During Training\")\n",
        "plt.plot(loss,label=\"Loss\")\n",
        "plt.xlabel(\"Epoch\")\n",
        "plt.ylabel(\"Loss\")\n",
        "plt.legend()\n",
        "plt.show()"
      ],
      "metadata": {
        "colab": {
          "base_uri": "https://localhost:8080/",
          "height": 487
        },
        "id": "g6ehBUatYEAU",
        "outputId": "2dd57abe-1c32-41d9-c128-28e97672e13e"
      },
      "execution_count": 12,
      "outputs": [
        {
          "output_type": "display_data",
          "data": {
            "text/plain": [
              "<Figure size 800x500 with 1 Axes>"
            ],
            "image/png": "[encoded data removed]"
          },
          "metadata": {}
        }
      ]
    },
    {
      "cell_type": "code",
      "source": [
        "# Plot the model accuracy during training\n",
        "plt.figure(figsize=(8,5))\n",
        "plt.title(\"Generator and Discriminator Loss During Training\")\n",
        "plt.plot(accuracy_values,label=\"Loss\")\n",
        "plt.xlabel(\"Epoch\")\n",
        "plt.ylabel(\"Loss\")\n",
        "plt.legend()\n",
        "plt.show()"
      ],
      "metadata": {
        "colab": {
          "base_uri": "https://localhost:8080/",
          "height": 487
        },
        "id": "GBwxEOfDZiGV",
        "outputId": "8704b490-90b1-40cb-a8ab-f558b140ea50"
      },
      "execution_count": 13,
      "outputs": [
        {
          "output_type": "display_data",
          "data": {
            "text/plain": [
              "<Figure size 800x500 with 1 Axes>"
            ],
            "image/png": "[encoded data removed]"
          },
          "metadata": {}
        }
      ]
    },
    {
      "cell_type": "code",
      "source": [
        "# Export the model\n",
        "model_name = \"pokemon_classifier.pth\"\n",
        "path = F\"/content/drive/MyDrive/{model_name}\"\n",
        "torch.save(classifier.state_dict(), path)"
      ],
      "metadata": {
        "id": "ggfvtvH2IwDJ"
      },
      "execution_count": 16,
      "outputs": []
    },
    {
      "cell_type": "code",
      "source": [
        "correct = 0\n",
        "total = 0\n",
        "\n",
        "# Evaluate the performance of the model\n",
        "with torch.no_grad():\n",
        "    for data in pokemon_dataloader:\n",
        "        images, labels = data\n",
        "        # print(labels)\n",
        "        labels = OneHotEncoding(labels)\n",
        "        # print(labels)\n",
        "        # print(len(labels))\n",
        "        outputs = classifier(images.cuda())\n",
        "        _, predicted = torch.max(outputs.data, 1)\n",
        "        #print(predicted)\n",
        "        for i in range(len(outputs)):\n",
        "            #print(labels[i], predicted[i].detach().numpy())\n",
        "            if(labels[i] == predicted[i].cpu().detach().numpy()):\n",
        "                correct += 1\n",
        "            total += 1\n",
        "\n",
        "print(f'Accuracy of the network on the  test images: {100 * correct // total} %')\n"
      ],
      "metadata": {
        "id": "iMOPIWkKIx4Q",
        "colab": {
          "base_uri": "https://localhost:8080/"
        },
        "outputId": "bb0f964e-8284-4786-c6ba-308cc927fa1b"
      },
      "execution_count": 15,
      "outputs": [
        {
          "output_type": "stream",
          "name": "stdout",
          "text": [
            "Accuracy of the network on the  test images: 91 %\n"
          ]
        }
      ]
    }
  ]
}